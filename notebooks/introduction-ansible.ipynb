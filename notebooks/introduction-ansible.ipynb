{
 "cells": [
  {
   "cell_type": "markdown",
   "metadata": {},
   "source": [
    "# Ansible"
   ]
  },
  {
   "cell_type": "markdown",
   "metadata": {},
   "source": [
    "Check you can ssh into all hosts"
   ]
  },
  {
   "cell_type": "code",
   "execution_count": null,
   "metadata": {},
   "outputs": [],
   "source": [
    "ansible -i ~/ome/ansible/inventory/staging-hosts all -m ping"
   ]
  },
  {
   "cell_type": "markdown",
   "metadata": {},
   "source": [
    "Install Galaxy roles"
   ]
  },
  {
   "cell_type": "code",
   "execution_count": null,
   "metadata": {},
   "outputs": [],
   "source": [
    "ansible-galaxy install -r ~/ome/prod/playbooks/requirements.yml"
   ]
  },
  {
   "cell_type": "markdown",
   "metadata": {},
   "source": [
    "Edit [`operator-secrets.yml`](operator-secrets.yml) if you need to specify a login or sudo password, otherwise leave it unchanged.\n",
    "\n",
    "Run a playbook."
   ]
  },
  {
   "cell_type": "code",
   "execution_count": null,
   "metadata": {},
   "outputs": [],
   "source": [
    "ansible-playbook -i ~/ome/ansible/inventory/staging-hosts \\\n",
    "    ../ome/prod/playbooks/omero/omero-monitoring-agents.yml \\\n",
    "    -e @operator-secrets.yml \\\n",
    "    --diff -C -l pub-omero.openmicroscopy.org"
   ]
  }
 ],
 "metadata": {
  "kernelspec": {
   "display_name": "Bash",
   "language": "bash",
   "name": "bash"
  },
  "language_info": {
   "codemirror_mode": "shell",
   "file_extension": ".sh",
   "mimetype": "text/x-sh",
   "name": "bash"
  }
 },
 "nbformat": 4,
 "nbformat_minor": 2
}
