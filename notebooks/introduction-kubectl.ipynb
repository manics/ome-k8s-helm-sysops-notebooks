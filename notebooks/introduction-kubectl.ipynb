{
 "cells": [
  {
   "cell_type": "markdown",
   "metadata": {},
   "source": [
    "Check you can connect to the Kubernetse cluster by getting the client and server versions, and listing the nodes in the cluster. If this doesn't work ask for help!"
   ]
  },
  {
   "cell_type": "code",
   "execution_count": 1,
   "metadata": {},
   "outputs": [
    {
     "name": "stdout",
     "output_type": "stream",
     "text": [
      "Client Version: version.Info{Major:\"1\", Minor:\"10\", GitVersion:\"v1.10.4\", GitCommit:\"5ca598b4ba5abb89bb773071ce452e33fb66339d\", GitTreeState:\"clean\", BuildDate:\"2018-06-06T08:13:03Z\", GoVersion:\"go1.9.3\", Compiler:\"gc\", Platform:\"linux/amd64\"}\n",
      "Server Version: version.Info{Major:\"1\", Minor:\"9\", GitVersion:\"v1.9.2+coreos.0\", GitCommit:\"b427929b2982726eeb64e985bc1ebb41aaa5e095\", GitTreeState:\"clean\", BuildDate:\"2018-01-18T22:56:14Z\", GoVersion:\"go1.9.2\", Compiler:\"gc\", Platform:\"linux/amd64\"}\n",
      "NAME            STATUS    ROLES     AGE       VERSION\n",
      "ome-lochy-m01   Ready     master    169d      v1.9.2+coreos.0\n",
      "ome-lochy-n01   Ready     node      169d      v1.9.2+coreos.0\n",
      "ome-lochy-n02   Ready     node      169d      v1.9.2+coreos.0\n"
     ]
    }
   ],
   "source": [
    "kubectl version\n",
    "kubectl get nodes"
   ]
  },
  {
   "cell_type": "markdown",
   "metadata": {},
   "source": [
    "List namespaces"
   ]
  },
  {
   "cell_type": "code",
   "execution_count": 2,
   "metadata": {},
   "outputs": [
    {
     "name": "stdout",
     "output_type": "stream",
     "text": [
      "NAME            STATUS    AGE\n",
      "default         Active    169d\n",
      "idr-redmine     Active    7d\n",
      "jupyter-int     Active    152d\n",
      "jupyter-train   Active    88d\n",
      "kube-public     Active    169d\n",
      "kube-system     Active    169d\n",
      "monitoring      Active    43d\n",
      "nginx-ingress   Active    41d\n"
     ]
    }
   ],
   "source": [
    "kubectl get ns"
   ]
  },
  {
   "cell_type": "markdown",
   "metadata": {},
   "source": [
    "List pods in the jupyter-int namespace"
   ]
  },
  {
   "cell_type": "code",
   "execution_count": 3,
   "metadata": {},
   "outputs": [
    {
     "name": "stdout",
     "output_type": "stream",
     "text": [
      "NAME                     READY     STATUS    RESTARTS   AGE\n",
      "hub-6f4fcc7b-gl2wr       1/1       Running   0          7m\n",
      "jupyter-spli             1/1       Running   0          1h\n",
      "proxy-5d7977cdc7-ftjs4   1/1       Running   0          2h\n"
     ]
    }
   ],
   "source": [
    "kubectl -n jupyter-int get pods"
   ]
  },
  {
   "cell_type": "markdown",
   "metadata": {},
   "source": [
    "`hub-*` an `proxy-*` are the two JupyterHub server pods. Get the logs for the past 2 minutes from the hub"
   ]
  },
  {
   "cell_type": "code",
   "execution_count": 4,
   "metadata": {},
   "outputs": [
    {
     "name": "stdout",
     "output_type": "stream",
     "text": [
      "hub-6f4fcc7b-gl2wr\n",
      "[D 2018-07-31 17:36:20.451 JupyterHub proxy:670] Proxy: Fetching GET http://10.233.26.9:8001/api/routes\n",
      "[D 2018-07-31 17:36:20.453 JupyterHub proxy:724] Omitting non-jupyterhub route '/'\n",
      "[I 2018-07-31 17:36:20.453 JupyterHub proxy:301] Checking routes\n",
      "[I 2018-07-31 17:36:29.393 JupyterHub log:158] 302 GET /hub/metrics -> /jupyterhub-internal/hub/hub/metrics (@10.233.64.78) 0.59ms\n",
      "[W 2018-07-31 17:36:29.394 JupyterHub log:158] 404 GET /jupyterhub-internal/hub/hub/metrics (@10.233.64.78) 1.00ms\n",
      "[D 2018-07-31 17:37:20.451 JupyterHub proxy:670] Proxy: Fetching GET http://10.233.26.9:8001/api/routes\n",
      "[D 2018-07-31 17:37:20.453 JupyterHub proxy:724] Omitting non-jupyterhub route '/'\n",
      "[I 2018-07-31 17:37:20.453 JupyterHub proxy:301] Checking routes\n",
      "[I 2018-07-31 17:37:29.393 JupyterHub log:158] 302 GET /hub/metrics -> /jupyterhub-internal/hub/hub/metrics (@10.233.64.78) 0.57ms\n",
      "[W 2018-07-31 17:37:29.394 JupyterHub log:158] 404 GET /jupyterhub-internal/hub/hub/metrics (@10.233.64.78) 0.95ms\n"
     ]
    }
   ],
   "source": [
    "HUBPOD=$(kubectl -n jupyter-int get pods | grep hub | cut -d\\  -f1)\n",
    "echo $HUBPOD\n",
    "kubectl -n jupyter-int logs $HUBPOD --since 2m"
   ]
  },
  {
   "cell_type": "markdown",
   "metadata": {},
   "source": [
    "The JupyterHub pod is managed by a deployment object, so the pod name may change. Since the deployment only runs a single instance of the main JupyterHub pod you can refer to it this way"
   ]
  },
  {
   "cell_type": "code",
   "execution_count": 5,
   "metadata": {},
   "outputs": [
    {
     "name": "stdout",
     "output_type": "stream",
     "text": [
      "[D 2018-07-31 17:36:20.451 JupyterHub proxy:670] Proxy: Fetching GET http://10.233.26.9:8001/api/routes\n",
      "[D 2018-07-31 17:36:20.453 JupyterHub proxy:724] Omitting non-jupyterhub route '/'\n",
      "[I 2018-07-31 17:36:20.453 JupyterHub proxy:301] Checking routes\n",
      "[I 2018-07-31 17:36:29.393 JupyterHub log:158] 302 GET /hub/metrics -> /jupyterhub-internal/hub/hub/metrics (@10.233.64.78) 0.59ms\n",
      "[W 2018-07-31 17:36:29.394 JupyterHub log:158] 404 GET /jupyterhub-internal/hub/hub/metrics (@10.233.64.78) 1.00ms\n",
      "[D 2018-07-31 17:37:20.451 JupyterHub proxy:670] Proxy: Fetching GET http://10.233.26.9:8001/api/routes\n",
      "[D 2018-07-31 17:37:20.453 JupyterHub proxy:724] Omitting non-jupyterhub route '/'\n",
      "[I 2018-07-31 17:37:20.453 JupyterHub proxy:301] Checking routes\n",
      "[I 2018-07-31 17:37:29.393 JupyterHub log:158] 302 GET /hub/metrics -> /jupyterhub-internal/hub/hub/metrics (@10.233.64.78) 0.57ms\n",
      "[W 2018-07-31 17:37:29.394 JupyterHub log:158] 404 GET /jupyterhub-internal/hub/hub/metrics (@10.233.64.78) 0.95ms\n"
     ]
    }
   ],
   "source": [
    "kubectl -n jupyter-int logs deploy/hub --since 2m"
   ]
  },
  {
   "cell_type": "markdown",
   "metadata": {},
   "source": [
    "You can also use selectors to select one or more pods. For example, get some information about a deployment which may include labels attached to the pods"
   ]
  },
  {
   "cell_type": "code",
   "execution_count": 6,
   "metadata": {},
   "outputs": [
    {
     "name": "stdout",
     "output_type": "stream",
     "text": [
      "NAME      DESIRED   CURRENT   UP-TO-DATE   AVAILABLE   AGE\n",
      "hub       1         1         1            1           32d\n",
      "proxy     1         1         1            1           32d\n",
      "Name:               hub\n",
      "Namespace:          jupyter-int\n",
      "CreationTimestamp:  Fri, 29 Jun 2018 13:52:08 +0000\n",
      "Labels:             app=jupyterhub\n",
      "                    chart=jupyterhub-v0.7-578b3a2\n",
      "                    component=hub\n",
      "                    heritage=Tiller\n",
      "                    release=jupyter-int\n",
      "Annotations:        deployment.kubernetes.io/revision=8\n",
      "Selector:           app=jupyterhub,component=hub,release=jupyter-int\n",
      "Replicas:           1 desired | 1 updated | 1 total | 1 available | 0 unavailable\n",
      "StrategyType:       Recreate\n",
      "MinReadySeconds:    0\n",
      "Pod Template:\n",
      "  Labels:           app=jupyterhub\n",
      "                    component=hub\n",
      "                    hub.jupyter.org/network-access-proxy-api=true\n",
      "                    hub.jupyter.org/network-access-proxy-http=true\n",
      "                    hub.jupyter.org/network-access-singleuser=true\n",
      "                    release=jupyter-int\n",
      "  Annotations:      checksum/config-map=94a328128e4155711d814e6b08f5cb8fd8c1e7b4fe75081a6834e3806ed9b759\n",
      "                    checksum/secret=456e6fafd542e892becfcf10fed330c3ae85b5d8f416e45b6e7a7db3cfcb19cc\n",
      "                    prometheus.io/path=/hub/metrics\n",
      "                    prometheus.io/scrape=true\n",
      "  Service Account:  hub\n",
      "  Containers:\n",
      "   hub:\n",
      "    Image:      jupyterhub/k8s-hub:a3fab36\n",
      "    Port:       8081/TCP\n",
      "    Host Port:  0/TCP\n",
      "    Command:\n",
      "      jupyterhub\n",
      "      --config\n",
      "      /srv/jupyterhub_config.py\n",
      "      --debug\n",
      "    Requests:\n",
      "      cpu:     200m\n",
      "      memory:  512Mi\n",
      "    Environment:\n",
      "      SINGLEUSER_IMAGE:        snoopycrimecop/idr-notebooks:master_merge_trigger\n",
      "      JPY_COOKIE_SECRET:       <set to the key 'hub.cookie-secret' in secret 'hub-secret'>  Optional: false\n",
      "      POD_NAMESPACE:            (v1:metadata.namespace)\n",
      "      CONFIGPROXY_AUTH_TOKEN:  <set to the key 'proxy.token' in secret 'hub-secret'>  Optional: false\n",
      "    Mounts:\n",
      "      /etc/jupyterhub/config/ from config (rw)\n",
      "      /etc/jupyterhub/secret/ from secret (rw)\n",
      "  Volumes:\n",
      "   config:\n",
      "    Type:      ConfigMap (a volume populated by a ConfigMap)\n",
      "    Name:      hub-config\n",
      "    Optional:  false\n",
      "   secret:\n",
      "    Type:        Secret (a volume populated by a Secret)\n",
      "    SecretName:  hub-secret\n",
      "    Optional:    false\n",
      "Conditions:\n",
      "  Type           Status  Reason\n",
      "  ----           ------  ------\n",
      "  Progressing    True    NewReplicaSetAvailable\n",
      "  Available      True    MinimumReplicasAvailable\n",
      "OldReplicaSets:  <none>\n",
      "NewReplicaSet:   hub-6f4fcc7b (1/1 replicas created)\n",
      "Events:          <none>\n"
     ]
    }
   ],
   "source": [
    "kubectl -n jupyter-int get deploy\n",
    "kubectl -n jupyter-int describe deploy hub"
   ]
  },
  {
   "cell_type": "markdown",
   "metadata": {},
   "source": [
    "Select all pods with the label `component=hub`"
   ]
  },
  {
   "cell_type": "code",
   "execution_count": 7,
   "metadata": {},
   "outputs": [
    {
     "name": "stdout",
     "output_type": "stream",
     "text": [
      "NAME                 READY     STATUS    RESTARTS   AGE\n",
      "hub-6f4fcc7b-gl2wr   1/1       Running   0          7m\n"
     ]
    }
   ],
   "source": [
    "kubectl -n jupyter-int get pods --selector=component=hub"
   ]
  },
  {
   "cell_type": "markdown",
   "metadata": {},
   "source": [
    "If for some reason you need to restart the hub the easiest way is to delete it\n",
    "and it will be recreated automatically\n",
    "```\n",
    "kubectl -n jupyter-int delete pod --selector=component=hub\n",
    "kubectl -n jupyter-int get pods\n",
    "```"
   ]
  }
 ],
 "metadata": {
  "kernelspec": {
   "display_name": "Bash",
   "language": "bash",
   "name": "bash"
  },
  "language_info": {
   "codemirror_mode": "shell",
   "file_extension": ".sh",
   "mimetype": "text/x-sh",
   "name": "bash"
  }
 },
 "nbformat": 4,
 "nbformat_minor": 2
}
