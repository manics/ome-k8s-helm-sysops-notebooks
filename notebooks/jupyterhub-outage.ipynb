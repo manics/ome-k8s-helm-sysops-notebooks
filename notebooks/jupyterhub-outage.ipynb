{
 "cells": [
  {
   "cell_type": "markdown",
   "metadata": {},
   "source": [
    "# Restart an idr-analysis JupyterHub server on Kubernetes\n",
    "\n",
    "Occasionally the JupyterHub server will fail to spawn new pods for unknown reasons.\n",
    "When this happens uses can connect to JupyterHub, but starting a server fails with a 500 error.\n",
    "The error message may sometimes be misleading.\n",
    "\n",
    "When this happens try the following.\n",
    "\n",
    "## Clear state in a user's web browser\n",
    "\n",
    "Clear any cookies or sessions associated with idr-analysis in the user's browser.\n",
    "For example, in Firefox you can `Forget About This Site` in the history.\n",
    "Attempt to connect to JupyterHub again.\n",
    "\n",
    "## Investigate JupyterHub\n",
    "\n",
    "If clearing the user's browser setting does not resolve the issue you will need to investigate JupyterHub.\n",
    "\n",
    "\n",
    "### Kubernetes configuration\n",
    "\n",
    "First ensure you can connect to Kubernetes.\n",
    "If you are using this Docker image and followed the instructions to run it `kubectl` is already installed and configured for connection to the Kubernetes cluster.\n",
    "\n",
    "If you need to install and configure it yourself\n",
    "- Go to https://kubernetes.io/docs/tasks/tools/install-kubectl/#install-kubectl and follow the instructions to install kubectl `1.9.*` or `1.10.*`\n",
    "- Decrypt the Kubernetes configuration file: `pass show secret/k8s/config > kube.config`\n",
    "- Set the `KUBECONFIG` environment variable to point to this file: `export KUBECONFIG=kube.config`\n",
    "\n",
    "Check you can connect to the Kubernetes cluster:"
   ]
  },
  {
   "cell_type": "code",
   "execution_count": 2,
   "metadata": {},
   "outputs": [
    {
     "name": "stdout",
     "output_type": "stream",
     "text": [
      "NAME                 STATUS    ROLES     AGE       VERSION\n",
      "k8s01-vae-master-1   Ready     master    131d      v1.9.3+coreos.0\n",
      "k8s01-vae-master-2   Ready     master    131d      v1.9.3+coreos.0\n",
      "k8s01-vae-master-3   Ready     master    131d      v1.9.3+coreos.0\n",
      "k8s01-vae-node-1     Ready     node      131d      v1.9.3+coreos.0\n",
      "k8s01-vae-node-2     Ready     node      131d      v1.9.3+coreos.0\n",
      "k8s01-vae-node-3     Ready     node      131d      v1.9.3+coreos.0\n"
     ]
    }
   ],
   "source": [
    "kubectl get nodes"
   ]
  },
  {
   "cell_type": "markdown",
   "metadata": {},
   "source": [
    "### Check JupyterHub logs\n",
    "Change the `--since argument` to a longer time frame, e.g. `1d`"
   ]
  },
  {
   "cell_type": "code",
   "execution_count": 5,
   "metadata": {},
   "outputs": [
    {
     "name": "stdout",
     "output_type": "stream",
     "text": [
      "[I 2018-08-09 15:07:26.362 JupyterHub proxy:301] Checking routes\n",
      "[I 2018-08-09 15:08:26.360 JupyterHub proxy:301] Checking routes\n",
      "[I 2018-08-09 15:09:26.360 JupyterHub proxy:301] Checking routes\n",
      "[I 2018-08-09 15:10:26.361 JupyterHub proxy:301] Checking routes\n",
      "[I 2018-08-09 15:10:26.525 JupyterHub log:158] 200 GET /itr-public/hub/api/users (cull-idle@127.0.0.1) 6.35ms\n",
      "[I 2018-08-09 15:11:26.362 JupyterHub proxy:301] Checking routes\n"
     ]
    }
   ],
   "source": [
    "kubectl -n jupyterhub-itr-public logs deploy/hub --since 5m"
   ]
  },
  {
   "cell_type": "markdown",
   "metadata": {},
   "source": [
    "If the reason for the outage is unclear from the logs restart the hub"
   ]
  },
  {
   "cell_type": "code",
   "execution_count": 6,
   "metadata": {},
   "outputs": [
    {
     "name": "stdout",
     "output_type": "stream",
     "text": [
      "NAME                  READY     STATUS    RESTARTS   AGE\n",
      "hub-75bd7db47-gvt59   1/1       Running   0          22h\n"
     ]
    }
   ],
   "source": [
    "kubectl -n jupyterhub-itr-public get pods --selector=component=hub"
   ]
  },
  {
   "cell_type": "code",
   "execution_count": 9,
   "metadata": {},
   "outputs": [
    {
     "name": "stdout",
     "output_type": "stream",
     "text": [
      "pod \"hub-75bd7db47-hbwnq\" deleted\n"
     ]
    }
   ],
   "source": [
    "kubectl -n jupyterhub-itr-public delete pods --selector=component=hub"
   ]
  },
  {
   "cell_type": "markdown",
   "metadata": {},
   "source": [
    "You should also delete any single user servers that are still running as the JupyterHub database is shelp in memory so will be lost by the restart"
   ]
  },
  {
   "cell_type": "code",
   "execution_count": 10,
   "metadata": {},
   "outputs": [
    {
     "name": "stdout",
     "output_type": "stream",
     "text": [
      "NAME                                                   READY     STATUS    RESTARTS   AGE\n",
      "jupyter-66179dc6-2dd929-2d48c6-2db8dc-2df4bc26dc70a5   1/1       Running   0          22h\n",
      "jupyter-6a903d58-2dd595-2d48ca-2dbdf2-2d17f79fbf8ba0   1/1       Running   0          5h\n"
     ]
    }
   ],
   "source": [
    "kubectl -n jupyterhub-itr-public get pods --selector=component=singleuser-server"
   ]
  },
  {
   "cell_type": "code",
   "execution_count": 11,
   "metadata": {},
   "outputs": [
    {
     "name": "stdout",
     "output_type": "stream",
     "text": [
      "pod \"jupyter-66179dc6-2dd929-2d48c6-2db8dc-2df4bc26dc70a5\" deleted\n",
      "pod \"jupyter-6a903d58-2dd595-2d48ca-2dbdf2-2d17f79fbf8ba0\" deleted\n"
     ]
    }
   ],
   "source": [
    "kubectl -n jupyterhub-itr-public delete pods --selector=component=singleuser-server"
   ]
  },
  {
   "cell_type": "markdown",
   "metadata": {},
   "source": [
    "Hopefully everything is working now!"
   ]
  },
  {
   "cell_type": "code",
   "execution_count": 13,
   "metadata": {},
   "outputs": [
    {
     "name": "stdout",
     "output_type": "stream",
     "text": [
      "NAME                  READY     STATUS    RESTARTS   AGE\n",
      "hub-75bd7db47-pjpcc   1/1       Running   0          14m\n"
     ]
    }
   ],
   "source": [
    "kubectl -n jupyterhub-itr-public get pods --selector=component=hub"
   ]
  },
  {
   "cell_type": "markdown",
   "metadata": {},
   "source": [
    "If this fails delete the entire deployment and redeploy through GitLab"
   ]
  },
  {
   "cell_type": "code",
   "execution_count": 15,
   "metadata": {},
   "outputs": [
    {
     "name": "stdout",
     "output_type": "stream",
     "text": [
      "NAME                         \tREVISION\tUPDATED                 \tSTATUS  \tCHART                          \tNAMESPACE            \n",
      "gitlab-runner                \t1       \tFri Apr  6 15:37:04 2018\tDEPLOYED\tgitlab-runner-0.1.13           \tgitlab               \n",
      "grafana                      \t11      \tWed Aug  8 16:44:59 2018\tDEPLOYED\tgrafana-1.3.0                  \tmonitoring           \n",
      "idr-analysis-website         \t24      \tWed Aug  8 16:45:02 2018\tDEPLOYED\tidr-analysis-website-0.1.0     \tidr-analysis-website \n",
      "jupyterhub-itr-public        \t1       \tThu Aug  9 15:38:55 2018\tDEPLOYED\tjupyterhub-v0.7-15e87d6        \tjupyterhub-itr-public\n",
      "jupyterhub-public            \t25      \tWed Aug  8 16:44:56 2018\tDEPLOYED\tjupyterhub-v0.7-d617e0a        \tjupyterhub-public    \n",
      "jupyterhub-staging           \t5       \tWed Aug  8 16:39:27 2018\tDEPLOYED\tjupyterhub-v0.7-d617e0a        \tjupyterhub-staging   \n",
      "jupyterhub-training          \t11      \tWed Aug  8 16:39:26 2018\tDEPLOYED\tjupyterhub-v0.7-d617e0a        \tjupyterhub-training  \n",
      "jupyterhub-vae               \t21      \tWed Aug  8 16:44:56 2018\tDEPLOYED\tjupyterhub-v0.7-d617e0a        \tjupyterhub-vae       \n",
      "jupyterhub-vae-aai           \t24      \tWed Aug  8 16:45:02 2018\tDEPLOYED\tjupyterhub-v0.7-d617e0a        \tjupyterhub-vae-aai   \n",
      "jupyterhub-vae-shared-storage\t26      \tWed Aug  8 16:44:56 2018\tDEPLOYED\tjupyterhub-shared-scratch-0.1.0\tjupyterhub-vae       \n",
      "prometheus                   \t16      \tWed Aug  8 16:44:59 2018\tDEPLOYED\tprometheus-6.3.3               \tmonitoring           \n",
      "prometheus-auth              \t7       \tWed Aug  8 16:44:58 2018\tDEPLOYED\tkubernetes-secret-0.1.0        \tmonitoring           \n",
      "vae-shared                   \t1       \tFri Apr  6 17:40:20 2018\tDEPLOYED\tjupyterhub-shared-scratch-0.1.0\tvae-gh               \n"
     ]
    }
   ],
   "source": [
    "helm-28 list"
   ]
  },
  {
   "cell_type": "code",
   "execution_count": 16,
   "metadata": {},
   "outputs": [
    {
     "name": "stdout",
     "output_type": "stream",
     "text": [
      "release \"jupyterhub-itr-public\" deleted\n"
     ]
    }
   ],
   "source": [
    "helm-28 delete --purge jupyterhub-itr-public"
   ]
  },
  {
   "cell_type": "code",
   "execution_count": 17,
   "metadata": {},
   "outputs": [
    {
     "name": "stdout",
     "output_type": "stream",
     "text": [
      "namespace \"jupyterhub-itr-public\" deleted\n"
     ]
    }
   ],
   "source": [
    "kubectl delete ns jupyterhub-itr-public"
   ]
  },
  {
   "cell_type": "markdown",
   "metadata": {},
   "source": [
    "Check it's deleted, if not wait before redeploying"
   ]
  },
  {
   "cell_type": "code",
   "execution_count": 18,
   "metadata": {},
   "outputs": [
    {
     "name": "stdout",
     "output_type": "stream",
     "text": [
      "NAME                   STATUS    AGE\n",
      "default                Active    131d\n",
      "gitlab                 Active    125d\n",
      "gluster                Active    130d\n",
      "idr-analysis-website   Active    124d\n",
      "ingress-nginx          Active    131d\n",
      "jupyterhub-public      Active    124d\n",
      "jupyterhub-staging     Active    43d\n",
      "jupyterhub-training    Active    73d\n",
      "jupyterhub-vae         Active    124d\n",
      "jupyterhub-vae-aai     Active    124d\n",
      "kube-public            Active    131d\n",
      "kube-system            Active    131d\n",
      "monitoring             Active    92d\n"
     ]
    }
   ],
   "source": [
    "kubectl get ns"
   ]
  }
 ],
 "metadata": {
  "kernelspec": {
   "display_name": "Bash",
   "language": "bash",
   "name": "bash"
  },
  "language_info": {
   "codemirror_mode": "shell",
   "file_extension": ".sh",
   "mimetype": "text/x-sh",
   "name": "bash"
  }
 },
 "nbformat": 4,
 "nbformat_minor": 2
}
